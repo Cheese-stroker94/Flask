{
 "cells": [
  {
   "cell_type": "code",
   "execution_count": 8,
   "metadata": {},
   "outputs": [
    {
     "name": "stdout",
     "output_type": "stream",
     "text": [
      " * Serving Flask app '__main__'\n",
      " * Debug mode: off\n"
     ]
    },
    {
     "name": "stderr",
     "output_type": "stream",
     "text": [
      "WARNING: This is a development server. Do not use it in a production deployment. Use a production WSGI server instead.\n",
      " * Running on http://127.0.0.1:5000\n",
      "Press CTRL+C to quit\n",
      "127.0.0.1 - - [28/Nov/2024 10:45:52] \"GET / HTTP/1.1\" 200 -\n",
      "127.0.0.1 - - [28/Nov/2024 10:45:57] \"GET /user HTTP/1.1\" 302 -\n",
      "127.0.0.1 - - [28/Nov/2024 10:45:57] \"GET /login HTTP/1.1\" 200 -\n",
      "127.0.0.1 - - [28/Nov/2024 10:46:02] \"POST /login HTTP/1.1\" 302 -\n",
      "127.0.0.1 - - [28/Nov/2024 10:46:02] \"GET /user HTTP/1.1\" 200 -\n",
      "127.0.0.1 - - [28/Nov/2024 10:46:09] \"GET / HTTP/1.1\" 200 -\n",
      "127.0.0.1 - - [28/Nov/2024 10:46:14] \"GET /user HTTP/1.1\" 302 -\n",
      "127.0.0.1 - - [28/Nov/2024 10:46:14] \"GET /login HTTP/1.1\" 200 -\n",
      "127.0.0.1 - - [28/Nov/2024 10:47:09] \"GET / HTTP/1.1\" 200 -\n",
      "127.0.0.1 - - [28/Nov/2024 10:47:13] \"GET / HTTP/1.1\" 200 -\n"
     ]
    }
   ],
   "source": [
    "from email import contentmanager\n",
    "import flask\n",
    "from flask import Flask, render_template,redirect,url_for,request,session\n",
    "from datetime import timedelta\n",
    "\n",
    "\n",
    "app=flask.Flask(__name__)\n",
    "app.secret_key='a' #to decrypt and ecrypt data in session\n",
    "app.permanent_session_lifetime=timedelta(seconds=1)\n",
    "\n",
    "@app.route('/')\n",
    "def home():\n",
    "   return render_template('index.html',content=\"Testing\")\n",
    "\n",
    "@app.route('/login',methods=['GET','POST'])\n",
    "def login():\n",
    "   if request.method=='POST':\n",
    "      session.permanent=True\n",
    "      user=request.form['nm']\n",
    "      session['user']=user\n",
    "      return redirect(url_for('user'))\n",
    "   else:\n",
    "      if 'user' in session:\n",
    "         return redirect(url_for('user'))\n",
    "     \n",
    "      return render_template('login.html')\n",
    "\n",
    "@app.route('/user')\n",
    "def user():\n",
    "   if 'user' in session:\n",
    "      user=session['user'] \n",
    "      return f\"<h1>{user}</h1>\"\n",
    "   else:\n",
    "      return redirect(url_for('login'))\n",
    "   \n",
    "@app.route('/logout')\n",
    "def logout():\n",
    "   session.pop('user',None)\n",
    "   return redirect(url_for('login'))\n",
    "\n",
    "if __name__ == '__main__':\n",
    "   app.run(debug=False)\n",
    "\n"
   ]
  },
  {
   "cell_type": "code",
   "execution_count": null,
   "metadata": {},
   "outputs": [],
   "source": []
  },
  {
   "cell_type": "code",
   "execution_count": null,
   "metadata": {},
   "outputs": [],
   "source": []
  },
  {
   "cell_type": "code",
   "execution_count": null,
   "metadata": {},
   "outputs": [],
   "source": []
  },
  {
   "cell_type": "code",
   "execution_count": null,
   "metadata": {},
   "outputs": [],
   "source": []
  },
  {
   "cell_type": "code",
   "execution_count": null,
   "metadata": {},
   "outputs": [],
   "source": []
  },
  {
   "cell_type": "code",
   "execution_count": null,
   "metadata": {},
   "outputs": [],
   "source": []
  },
  {
   "cell_type": "code",
   "execution_count": null,
   "metadata": {},
   "outputs": [],
   "source": []
  },
  {
   "cell_type": "code",
   "execution_count": null,
   "metadata": {},
   "outputs": [],
   "source": []
  },
  {
   "cell_type": "code",
   "execution_count": null,
   "metadata": {},
   "outputs": [],
   "source": []
  },
  {
   "cell_type": "code",
   "execution_count": null,
   "metadata": {},
   "outputs": [],
   "source": []
  },
  {
   "cell_type": "code",
   "execution_count": null,
   "metadata": {},
   "outputs": [],
   "source": []
  },
  {
   "cell_type": "code",
   "execution_count": null,
   "metadata": {},
   "outputs": [],
   "source": []
  },
  {
   "cell_type": "code",
   "execution_count": null,
   "metadata": {},
   "outputs": [],
   "source": []
  },
  {
   "cell_type": "code",
   "execution_count": null,
   "metadata": {},
   "outputs": [],
   "source": []
  },
  {
   "cell_type": "code",
   "execution_count": null,
   "metadata": {},
   "outputs": [],
   "source": []
  },
  {
   "cell_type": "code",
   "execution_count": null,
   "metadata": {},
   "outputs": [],
   "source": []
  },
  {
   "cell_type": "code",
   "execution_count": null,
   "metadata": {},
   "outputs": [],
   "source": []
  },
  {
   "cell_type": "code",
   "execution_count": null,
   "metadata": {},
   "outputs": [],
   "source": []
  },
  {
   "cell_type": "code",
   "execution_count": null,
   "metadata": {},
   "outputs": [],
   "source": []
  },
  {
   "cell_type": "code",
   "execution_count": null,
   "metadata": {},
   "outputs": [],
   "source": []
  },
  {
   "cell_type": "code",
   "execution_count": null,
   "metadata": {},
   "outputs": [],
   "source": []
  },
  {
   "cell_type": "code",
   "execution_count": null,
   "metadata": {},
   "outputs": [],
   "source": []
  },
  {
   "cell_type": "code",
   "execution_count": null,
   "metadata": {},
   "outputs": [],
   "source": []
  }
 ],
 "metadata": {
  "kernelspec": {
   "display_name": "base",
   "language": "python",
   "name": "python3"
  },
  "language_info": {
   "codemirror_mode": {
    "name": "ipython",
    "version": 3
   },
   "file_extension": ".py",
   "mimetype": "text/x-python",
   "name": "python",
   "nbconvert_exporter": "python",
   "pygments_lexer": "ipython3",
   "version": "3.12.4"
  }
 },
 "nbformat": 4,
 "nbformat_minor": 2
}
